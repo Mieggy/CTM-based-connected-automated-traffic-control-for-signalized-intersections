{
 "cells": [
  {
   "cell_type": "code",
   "execution_count": 1,
   "metadata": {},
   "outputs": [],
   "source": [
    "import numpy as np\n",
    "from gurobipy import * \n",
    "import pandas as pd\n",
    "pd.set_option('display.max_rows',None)\n",
    "import matplotlib.pyplot as plt\n",
    "import random\n",
    "from random import seed\n",
    "from random import choices\n",
    "\n"
   ]
  },
  {
   "cell_type": "code",
   "execution_count": 3,
   "metadata": {},
   "outputs": [],
   "source": [
    "delta_t = 5/3600\n",
    "pha = 60/delta_t/3600\n",
    "pha=int(pha)\n",
    "pha_6=int(pha/6)\n",
    "\n",
    "sg = ([1]*4+[2]*8+[0]*12)*3\n",
    "ss = []\n",
    "for i in range(2*pha):\n",
    "    ss.append(sg[i:i+8])\n",
    "\n",
    "for i0 in range(pha,2*pha-1):\n",
    "    ss[i0]=ss[2*pha-2]\n",
    "ss = ss*1000  \n"
   ]
  },
  {
   "cell_type": "code",
   "execution_count": 4,
   "metadata": {},
   "outputs": [],
   "source": [
    "s_result = pd.DataFrame(columns=('s','t'))\n",
    "s_result['t'] = range(1680)\n",
    "s_result['s'] = ([1]*4+[2]*8+[0]*12)*70"
   ]
  },
  {
   "cell_type": "code",
   "execution_count": 5,
   "metadata": {},
   "outputs": [],
   "source": [
    "#benchmark \n",
    "#input rate 4\n",
    "p_s = 3\n",
    "p_end = 5\n",
    "total_t = 10\n",
    "\n",
    "xp = [-1, 1]\n",
    "xw = [2, 4]\n",
    "\n",
    "i = 0\n",
    "w_s = 10\n",
    "w_lc = 0\n",
    "w_i = 50"
   ]
  },
  {
   "cell_type": "code",
   "execution_count": null,
   "metadata": {},
   "outputs": [],
   "source": [
    "sepa = 0\n",
    "\n",
    "dl1 = choices(xp, xw, k=total_t)*10\n",
    "dl2 = choices(xp, xw, k=total_t)*10\n",
    "dl3 = choices(xp, xw, k=total_t)*10\n",
    "dl4 = choices(xp, xw, k=total_t)*10\n",
    "\n",
    "y1 = np.random.uniform(p_s, p_end, total_t).tolist()*10\n",
    "y2 = np.random.uniform(p_s, p_end, total_t).tolist()*10\n",
    "y3 = np.random.uniform(p_s, p_end, total_t).tolist()*10\n",
    "y4 = np.random.uniform(p_s, p_end, total_t).tolist()*10\n",
    "\n",
    "sep = np.arange(1,total_t)"
   ]
  }
 ],
 "metadata": {
  "interpreter": {
   "hash": "8bbf57e43a913da81951559dd3e3739b7ff06eeb0d9f4c741de5e90d9e2114c1"
  },
  "kernelspec": {
   "display_name": "Python 3",
   "language": "python",
   "name": "python3"
  },
  "language_info": {
   "codemirror_mode": {
    "name": "ipython",
    "version": 3
   },
   "file_extension": ".py",
   "mimetype": "text/x-python",
   "name": "python",
   "nbconvert_exporter": "python",
   "pygments_lexer": "ipython3",
   "version": "3.8.8"
  }
 },
 "nbformat": 4,
 "nbformat_minor": 2
}
